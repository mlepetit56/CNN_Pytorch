{
 "cells": [
  {
   "cell_type": "code",
   "execution_count": 1,
   "metadata": {},
   "outputs": [],
   "source": [
    "import numpy\n",
    "import numpy as np\n",
    "import torch\n",
    "import torch.nn as nn\n",
    "import torch.nn.functional as F\n",
    "import torch.utils.data.dataloader as dataloader\n",
    "import torch.optim as optim\n",
    "\n",
    "from torch.utils.data import TensorDataset\n",
    "from torchvision import transforms\n",
    "from torchvision.datasets import MNIST\n",
    "import matplotlib.pyplot as plt\n",
    "\n",
    "SEED = 1\n",
    "\n",
    "# CUDA?\n",
    "cuda = torch.cuda.is_available()\n",
    "\n",
    "# For reproducibility\n",
    "torch.manual_seed(SEED)\n",
    "device = torch.device(\"cuda\" if cuda else \"cpu\")\n",
    "\n",
    "if cuda:\n",
    "    torch.cuda.manual_seed(SEED)"
   ]
  },
  {
   "cell_type": "markdown",
   "metadata": {},
   "source": [
    "### AlexNet transformation"
   ]
  },
  {
   "cell_type": "code",
   "execution_count": 3,
   "metadata": {},
   "outputs": [],
   "source": [
    "from torchvision import transforms\n",
    "\n",
    "AlexTransform = transforms.Compose([\n",
    "    transforms.Resize((227, 227)),\n",
    "    transforms.ToTensor(),\n",
    "    transforms.Normalize((0.1307,), (0.3081,))\n",
    "])"
   ]
  },
  {
   "cell_type": "markdown",
   "metadata": {},
   "source": [
    "### Import dataset"
   ]
  },
  {
   "cell_type": "code",
   "execution_count": 8,
   "metadata": {},
   "outputs": [],
   "source": [
    "import os\n",
    "import torchvision\n",
    "\n",
    "class_names = ['T-shirt/top', 'Trouser', 'Pullover', 'Dress', 'Coat',\n",
    "               'Sandal', 'Shirt', 'Sneaker', 'Bag', 'Ankle boot']\n",
    "\n",
    "batch_size=256\n",
    "dataset_dir = os.path.join(os.path.expanduser(\"~\"), 'Datasets', 'FashionMNIST')\n",
    "\n",
    "# Load the dataset for the training/validation sets\n",
    "train_dataset_alex = torchvision.datasets.FashionMNIST(root=dataset_dir,\n",
    "                                           train=True,\n",
    "                                           transform= AlexTransform,\n",
    "                                           download=True)\n",
    "\n",
    "test_dataset_alex = torchvision.datasets.FashionMNIST(root=dataset_dir,\n",
    "                                           train=False,\n",
    "                                           transform= AlexTransform,\n",
    "                                           download=True)\n",
    "\n",
    "train_loader_alex = torch.utils.data.DataLoader(dataset=train_dataset_alex,\n",
    "                                          batch_size=batch_size,\n",
    "                                          shuffle=True,                \n",
    "                                          num_workers=4)\n",
    "\n",
    "test_loader_alex = torch.utils.data.DataLoader(dataset=test_dataset_alex,\n",
    "                                          batch_size=batch_size,\n",
    "                                          shuffle=True,                \n",
    "                                          num_workers=4)"
   ]
  },
  {
   "cell_type": "code",
   "execution_count": 11,
   "metadata": {},
   "outputs": [
    {
     "name": "stdout",
     "output_type": "stream",
     "text": [
      "The train set contains 60000 images, in 235 batchs\n",
      "The test set contains 10000 images, in 40 batchs\n"
     ]
    }
   ],
   "source": [
    "print(\"The train set contains {} images, in {} batchs\".format(len(train_loader_alex.dataset), len(train_loader_alex)))\n",
    "print(\"The test set contains {} images, in {} batchs\".format(len(test_loader_alex.dataset), len(test_loader_alex)))"
   ]
  },
  {
   "cell_type": "code",
   "execution_count": 13,
   "metadata": {
    "scrolled": false
   },
   "outputs": [
    {
     "name": "stderr",
     "output_type": "stream",
     "text": [
      "32768it [02:24, 226.69it/s]\n",
      "4423680it [02:24, 30626.14it/s] \n",
      "8192it [02:24, 56.87it/s]\n"
     ]
    },
    {
     "data": {
      "image/png": "[encoded data removed]",
      "text/plain": [
       "<Figure size 432x288 with 1 Axes>"
      ]
     },
     "metadata": {
      "needs_background": "light"
     },
     "output_type": "display_data"
    },
    {
     "name": "stderr",
     "output_type": "stream",
     "text": [
      "26427392it [02:27, 178827.79it/s]  \n"
     ]
    }
   ],
   "source": [
    "from functions.plot_picture import matplotlib_imshow\n",
    "\n",
    "# get some random training images\n",
    "dataiter = iter(train_loader_alex)\n",
    "\n",
    "images, labels = dataiter.next()\n",
    "\n",
    "# # creat grid of images\n",
    "img_grid = torchvision.utils.make_grid(images[0])\n",
    "\n",
    "# # show images & labels\n",
    "matplotlib_imshow(img_grid, class_names[labels[0]])"
   ]
  },
  {
   "cell_type": "markdown",
   "metadata": {},
   "source": [
    "### Train model with AlexNet architecture"
   ]
  },
  {
   "cell_type": "code",
   "execution_count": null,
   "metadata": {},
   "outputs": [
    {
     "name": "stdout",
     "output_type": "stream",
     "text": [
      "\r",
      " Train Epoch: 1/[] [256/60000 (10%)]\tLoss: 2.302109"
     ]
    }
   ],
   "source": [
    "from functions.training import train_model, evaluate_model\n",
    "from models.alexnet_arch import AlexNet\n",
    "import torch.optim as optim\n",
    "\n",
    "losses = []\n",
    "accuracies = []\n",
    "EPOCHS = 10\n",
    "nb_batch = int(np.ceil(len(train_loader_alex.dataset)/batch_size))\n",
    "\n",
    "optimizer = optim.Adam(AlexNet().parameters(),  lr=0.001)\n",
    "\n",
    "for epoch in range(EPOCHS):\n",
    "  losses.extend(train_model(train_loader_alex, device, AlexNet(), optimizer, epoch, losses, EPOCHS)[-nb_batch:])\n",
    "  accuracies.extend(evaluate_model(model_lenet, device, test_loader, losses[-1], EPOCHS, batch_size, len(train_loader_alex.dataset)))"
   ]
  }
 ],
 "metadata": {
  "kernelspec": {
   "display_name": "Python 3",
   "language": "python",
   "name": "python3"
  },
  "language_info": {
   "codemirror_mode": {
    "name": "ipython",
    "version": 3
   },
   "file_extension": ".py",
   "mimetype": "text/x-python",
   "name": "python",
   "nbconvert_exporter": "python",
   "pygments_lexer": "ipython3",
   "version": "3.7.9"
  },
  "pycharm": {
   "stem_cell": {
    "cell_type": "raw",
    "source": [],
    "metadata": {
     "collapsed": false
    }
   }
  }
 },
 "nbformat": 4,
 "nbformat_minor": 1
}