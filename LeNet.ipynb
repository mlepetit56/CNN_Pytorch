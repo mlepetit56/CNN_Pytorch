{
 "cells": [
  {
   "cell_type": "code",
   "execution_count": 1,
   "metadata": {
    "pycharm": {
     "is_executing": true
    }
   },
   "outputs": [],
   "source": [
    "import numpy\n",
    "import numpy as np\n",
    "import torch\n",
    "import torch.nn as nn\n",
    "import torch.nn.functional as F\n",
    "import torch.utils.data.dataloader as dataloader\n",
    "import torch.optim as optim\n",
    "\n",
    "from torch.utils.data import TensorDataset\n",
    "from torchvision import transforms\n",
    "from torchvision.datasets import MNIST\n",
    "import matplotlib.pyplot as plt\n",
    "\n",
    "SEED = 1\n",
    "\n",
    "# CUDA?\n",
    "cuda = torch.cuda.is_available()\n",
    "\n",
    "# For reproducibility\n",
    "torch.manual_seed(SEED)\n",
    "device = torch.device(\"cuda\" if cuda else \"cpu\")\n",
    "\n",
    "if cuda:\n",
    "    torch.cuda.manual_seed(SEED)"
   ]
  },
  {
   "cell_type": "code",
   "execution_count": 2,
   "metadata": {
    "pycharm": {
     "is_executing": false,
     "name": "#%%\n"
    }
   },
   "outputs": [],
   "source": [
    "NetTransform = transforms.Compose([\n",
    "    transforms.ToTensor(),\n",
    "    transforms.Normalize((0.1307,), (0.3081,))                               \n",
    "])\n",
    "\n"
   ]
  },
  {
   "cell_type": "code",
   "execution_count": 3,
   "metadata": {
    "pycharm": {
     "is_executing": false,
     "name": "#%%\n"
    }
   },
   "outputs": [],
   "source": [
    "class_names = range(10)"
   ]
  },
  {
   "cell_type": "code",
   "execution_count": 4,
   "metadata": {
    "pycharm": {
     "is_executing": false,
     "name": "#%%\n"
    }
   },
   "outputs": [],
   "source": [
    "# Two CNN + two FC Layers NN\n",
    "class Model(nn.Module):\n",
    "    def __init__(self):\n",
    "        super(Model, self).__init__()\n",
    "        # use nn.Sequential() for each layer1 and layer2, with nn.Conv2d + nn.ReLU + nn.MaxPool2d\n",
    "        self.layer1 = nn.Sequential(\n",
    "            nn.Conv2d(in_channels =1, out_channels =3, kernel_size=(2,2)), # output dimension = (28-2+1)*27*3= 2187\n",
    "            nn.ReLU(),\n",
    "            nn.MaxPool2d(kernel_size=(2,2), stride=1) # output dimension = (27-2+1)*26*3 = \n",
    "        )\n",
    "        self.layer2 = nn.Sequential(\n",
    "            nn.Conv2d(in_channels =3, out_channels =9, kernel_size=(2,2)), # output dimension = (26-2+1)*25*9\n",
    "            nn.ReLU(),\n",
    "            nn.MaxPool2d(kernel_size=(2,2), stride=1) #output dimension = (25-2+1)*24*9 = 5184\n",
    "        )\n",
    "        # use nn.Linear with 1000 neurons\n",
    "        self.fc1 = nn.Linear(5184, 1000)\n",
    "        # use nn.Linear to output a one hot vector to encode the output\n",
    "        self.fc2 = nn.Linear(1000, 10)\n",
    "    def forward(self, x):\n",
    "        out = self.layer1(x)\n",
    "        out = self.layer2(out)\n",
    "        # use reshape() to match the input of the FC layer1\n",
    "        out = out.reshape(x.size(0), -1)\n",
    "        out = self.fc1(out)\n",
    "        out = self.fc2(out)\n",
    "        # use F.log_softmax() to normalize the output\n",
    "        sm = nn.functional.log_softmax(out, _stacklevel=3)\n",
    "        return sm\n",
    "\n",
    "# Another model inspired from LeNet\n",
    "class Model_Type_LeNet(nn.Module):\n",
    "    def __init__(self):\n",
    "        super(Model_Type_LeNet, self).__init__()\n",
    "        # use nn.Sequential() for each layer1 and layer2, with nn.Conv2d + nn.ReLU + nn.MaxPool2d\n",
    "        self.layer1 = nn.Sequential(\n",
    "            nn.Conv2d(in_channels =1, out_channels =6, kernel_size=(5,5)), # output dimension = (28-5+1)*24*6= 2187\n",
    "            nn.ReLU(),\n",
    "            nn.AvgPool2d(kernel_size=(2,2), stride=2) # output dimension = ((24-2)%2+1)*12*6 = \n",
    "        )\n",
    "        self.layer2 = nn.Sequential(\n",
    "            nn.Conv2d(in_channels =6, out_channels =16, kernel_size=(5,5)), # output dimension = (12-5+1)*8*16\n",
    "            nn.ReLU(),\n",
    "            nn.AvgPool2d(kernel_size=(2,2), stride=2) #output dimension = ((8-2)%2+1)*4*16 = 256\n",
    "        )\n",
    "        # use nn.Linear with 1000 neurons\n",
    "        self.fc1 = nn.Linear(256, 1000)\n",
    "        # use nn.Linear to output a one hot vector to encode the output\n",
    "        self.fc2 = nn.Linear(1000, 10)\n",
    "    def forward(self, x):\n",
    "        out = self.layer1(x)\n",
    "        out = self.layer2(out)\n",
    "        # print(out.size())\n",
    "        # use reshape() to match the input of the FC layer1\n",
    "        out = out.reshape(out.size(0), -1)\n",
    "        out = self.fc1(out)\n",
    "        out = self.fc2(out)\n",
    "        # use F.log_softmax() to normalize the output\n",
    "        sm = nn.functional.log_softmax(out, _stacklevel=3)\n",
    "        return sm\n",
    "    \n",
    "    \n",
    "model_lenet = Model_Type_LeNet() # model type LeNet is not good for this applciation. Maybe it's because of the dimensions of the input picture or the MaxPool2d instead of the MeanPool2D\n",
    "\n",
    "model_lenet.to(device)\n",
    "# use an optim.Adam() optimizer\n",
    "optimizer = optim.Adam(model_lenet.parameters(),  lr=0.001)\n",
    "\n"
   ]
  },
  {
   "cell_type": "code",
   "execution_count": 5,
   "metadata": {
    "pycharm": {
     "is_executing": false,
     "name": "#%%\n"
    }
   },
   "outputs": [],
   "source": [
    "BATCH_SIZE=256\n",
    "\n",
    "train_loader = dataloader.DataLoader(\n",
    "    MNIST('./data', train=True, download=True, transform=NetTransform), \n",
    "    batch_size=BATCH_SIZE, shuffle=True, num_workers=4, pin_memory=True)\n",
    "\n",
    "test_loader = dataloader.DataLoader(\n",
    "    MNIST('./data', train=False, download=True, transform=NetTransform), \n",
    "    batch_size=BATCH_SIZE, shuffle=True, num_workers=4, pin_memory=True)\n",
    "\n"
   ]
  },
  {
   "cell_type": "code",
   "execution_count": 6,
   "metadata": {},
   "outputs": [
    {
     "data": {
      "image/png": "[encoded data removed]",
      "text/plain": [
       "<Figure size 432x288 with 1 Axes>"
      ]
     },
     "metadata": {
      "needs_background": "light"
     },
     "output_type": "display_data"
    }
   ],
   "source": [
    "import torchvision\n",
    "from functions.plot_picture import matplotlib_imshow\n",
    "# get some random training images\n",
    "dataiter = iter(train_loader)\n",
    "images, labels = dataiter.next()\n",
    "\n",
    "# creat grid of images\n",
    "img_grid = torchvision.utils.make_grid(images[0])\n",
    "\n",
    "# show images & labels\n",
    "matplotlib_imshow(img_grid, class_names[labels[0]])\n",
    "# print()"
   ]
  },
  {
   "cell_type": "code",
   "execution_count": 7,
   "metadata": {
    "pycharm": {
     "is_executing": true,
     "name": "#%%\n"
    },
    "scrolled": true
   },
   "outputs": [
    {
     "name": "stderr",
     "output_type": "stream",
     "text": [
      "C:\\Users\\User\\Anaconda3\\envs\\Python\\lib\\site-packages\\ipykernel_launcher.py:59: UserWarning: Implicit dimension choice for log_softmax has been deprecated. Change the call to include dim=X as an argument.\n"
     ]
    },
    {
     "name": "stdout",
     "output_type": "stream",
     "text": [
      " Train Epoch: 1/10 [60000/60000 (100%)]\tLoss: 0.057342\t Test Accuracy: 97.6100%\n",
      " Train Epoch: 2/10 [60000/60000 (100%)]\tLoss: 0.039022\t Test Accuracy: 98.3100%\n",
      " Train Epoch: 3/10 [60000/60000 (100%)]\tLoss: 0.092489\t Test Accuracy: 98.6700%\n",
      " Train Epoch: 4/10 [60000/60000 (100%)]\tLoss: 0.049580\t Test Accuracy: 98.3800%\n",
      " Train Epoch: 5/10 [60000/60000 (100%)]\tLoss: 0.047314\t Test Accuracy: 98.6300%\n",
      " Train Epoch: 6/10 [60000/60000 (100%)]\tLoss: 0.019833\t Test Accuracy: 98.9700%\n",
      " Train Epoch: 7/10 [60000/60000 (100%)]\tLoss: 0.090086\t Test Accuracy: 98.8500%\n",
      " Train Epoch: 8/10 [60000/60000 (100%)]\tLoss: 0.029846\t Test Accuracy: 99.0300%\n",
      " Train Epoch: 9/10 [60000/60000 (100%)]\tLoss: 0.001387\t Test Accuracy: 98.7000%\n",
      " Train Epoch: 10/10 [60000/60000 (100%)]\tLoss: 0.006873\t Test Accuracy: 98.6700%\n"
     ]
    }
   ],
   "source": [
    "from functions.training import train_model, evaluate_model\n",
    "\n",
    "losses = []\n",
    "accuracies = []\n",
    "EPOCHS = 10\n",
    "batch_size = 256\n",
    "nb_batch = int(np.ceil(len(train_loader.dataset)/batch_size))\n",
    "\n",
    "for epoch in range(EPOCHS):\n",
    "  losses.extend(train_model(train_loader, device, model_lenet, optimizer, epoch, EPOCHS, batch_size)[-nb_batch:])\n",
    "  accuracies.append(evaluate_model(model_lenet, device, test_loader, losses[-1], EPOCHS, epoch, batch_size, len(train_loader.dataset)))"
   ]
  },
  {
   "cell_type": "code",
   "execution_count": 8,
   "metadata": {},
   "outputs": [
    {
     "data": {
      "text/plain": [
       "(0.0, 1.0)"
      ]
     },
     "execution_count": 8,
     "metadata": {},
     "output_type": "execute_result"
    },
    {
     "data": {
      "image/png": "[encoded data removed]",
      "text/plain": [
       "<Figure size 432x288 with 1 Axes>"
      ]
     },
     "metadata": {
      "needs_background": "light"
     },
     "output_type": "display_data"
    }
   ],
   "source": [
    "plt.plot(losses)\n",
    "plt.ylim(0,1)"
   ]
  },
  {
   "cell_type": "code",
   "execution_count": 9,
   "metadata": {
    "pycharm": {
     "name": "#%%\n"
    }
   },
   "outputs": [
    {
     "name": "stdout",
     "output_type": "stream",
     "text": [
      "<generator object Module.modules at 0x000002DC37653C48>\n"
     ]
    },
    {
     "data": {
      "image/png": "[encoded data removed]",
      "text/plain": [
       "<Figure size 432x144 with 6 Axes>"
      ]
     },
     "metadata": {
      "needs_background": "light"
     },
     "output_type": "display_data"
    },
    {
     "data": {
      "image/png": "[encoded data removed]",
      "text/plain": [
       "<Figure size 432x216 with 16 Axes>"
      ]
     },
     "metadata": {
      "needs_background": "light"
     },
     "output_type": "display_data"
    }
   ],
   "source": [
    "from functions.plot_model import *\n",
    "\n",
    "model = model_lenet\n",
    "\n",
    "\n",
    "\n",
    "print(model.modules())\n",
    "for m in model.modules():\n",
    "    if isinstance(m, nn.Conv2d):\n",
    "        # find the weight tensor for each module...\n",
    "        plot_kernels(m.weight.data.cpu().numpy()) # .data.cpu().numpy() -> transfer data from gpu to cpu to use kernel\n"
   ]
  },
  {
   "cell_type": "code",
   "execution_count": 10,
   "metadata": {},
   "outputs": [
    {
     "data": {
      "image/png": "[encoded data removed]",
      "text/plain": [
       "<Figure size 576x576 with 1 Axes>"
      ]
     },
     "metadata": {
      "needs_background": "light"
     },
     "output_type": "display_data"
    }
   ],
   "source": [
    "layers = []\n",
    "for n, p in model.named_parameters():\n",
    "    if(p.requires_grad) and (\"bias\" not in n):\n",
    "        layers.append(n)\n",
    "fig = plt.figure(figsize=(8,8))\n",
    "ax = fig.subplots()\n",
    "plt.xlabel(\"mini batch\")\n",
    "plt.ylabel(\"Average Gradient\")\n",
    "plt.title(\"Gradient Flow\")\n",
    "plt.grid(True)\n",
    "\n",
    "plot_grad_flow(model.named_parameters())"
   ]
  }
 ],
 "metadata": {
  "kernelspec": {
   "display_name": "Python 3",
   "language": "python",
   "name": "python3"
  },
  "language_info": {
   "codemirror_mode": {
    "name": "ipython",
    "version": 3
   },
   "file_extension": ".py",
   "mimetype": "text/x-python",
   "name": "python",
   "nbconvert_exporter": "python",
   "pygments_lexer": "ipython3",
   "version": "3.7.9"
  },
  "pycharm": {
   "stem_cell": {
    "cell_type": "raw",
    "metadata": {
     "collapsed": false
    },
    "source": []
   }
  }
 },
 "nbformat": 4,
 "nbformat_minor": 1
}
